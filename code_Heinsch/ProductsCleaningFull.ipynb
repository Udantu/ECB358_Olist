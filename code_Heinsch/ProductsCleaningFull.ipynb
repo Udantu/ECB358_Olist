{
 "cells": [
  {
   "cell_type": "code",
   "execution_count": 1,
   "metadata": {},
   "outputs": [],
   "source": [
    "import pandas as pd\n",
    "import datetime as dt"
   ]
  },
  {
   "cell_type": "code",
   "execution_count": 2,
   "metadata": {},
   "outputs": [],
   "source": [
    "orders = pd.read_csv('Olist/olist_orders_dataset.csv')\n",
    "payments = pd.read_csv('Olist/olist_order_payments_dataset.csv')\n",
    "reviews = pd.read_csv('Olist/olist_order_reviews_dataset.csv')\n",
    "items = pd.read_csv('Olist/olist_order_items_dataset.csv')\n",
    "sellers = pd.read_csv('Olist/olist_sellers_dataset.csv')\n",
    "products = pd.read_csv('Olist/olist_products_dataset.csv')\n",
    "translations = pd.read_csv('Olist/product_category_name_translation.csv')"
   ]
  },
  {
   "cell_type": "code",
   "execution_count": 3,
   "metadata": {},
   "outputs": [],
   "source": [
    "# Variables to Add:\n",
    "#     Product Total Sales\n",
    "#     Product Total Revenue\n",
    "#     Product Average Price Per Order\n",
    "#     Product Average Frequency\n",
    "#     Product Average Review Score"
   ]
  },
  {
   "cell_type": "code",
   "execution_count": 4,
   "metadata": {},
   "outputs": [
    {
     "data": {
      "text/plain": [
       "0        agro_industria_e_comercio\n",
       "1        agro_industria_e_comercio\n",
       "2        agro_industria_e_comercio\n",
       "3        agro_industria_e_comercio\n",
       "4        agro_industria_e_comercio\n",
       "                   ...            \n",
       "32336        utilidades_domesticas\n",
       "32337        utilidades_domesticas\n",
       "32338        utilidades_domesticas\n",
       "32339        utilidades_domesticas\n",
       "32340        utilidades_domesticas\n",
       "Name: product_category_name, Length: 32327, dtype: object"
      ]
     },
     "execution_count": 4,
     "metadata": {},
     "output_type": "execute_result"
    }
   ],
   "source": [
    "# Translations of Products\n",
    "\n",
    "# For ease of analysis, all products in portugese will be translated to english.\n",
    "# ------------------------------------------------------------------------\n",
    "products = products.set_index('product_category_name').join(translations.set_index('product_category_name')).reset_index()\n",
    "products.dropna(inplace=True)\n",
    "products.pop('product_category_name')"
   ]
  },
  {
   "cell_type": "code",
   "execution_count": 5,
   "metadata": {},
   "outputs": [],
   "source": [
    "# Initialize an empty Products dataframe to add variables into.\n",
    "Products = pd.DataFrame(products.product_category_name_english.unique())"
   ]
  },
  {
   "cell_type": "code",
   "execution_count": 6,
   "metadata": {},
   "outputs": [],
   "source": [
    "# Total Products Sold\n",
    "\n",
    "# ------------------------------------------------------------------------\n",
    "\n",
    "# 1) move product category into items, drop na and get all item counts\n",
    "#    based on product category, save this into a new dataframe\n",
    "items = items.reset_index().set_index('product_id').join(products.reset_index()[['product_id','product_category_name_english']].set_index('product_id')).reset_index()\n",
    "items.dropna()\n",
    "product_counts = pd.DataFrame(items.groupby(by='product_category_name_english')['product_id'].count())\n",
    "# 2) clean the variable names and join to Products\n",
    "product_counts.rename(columns={'product_id':'total_orders'},inplace=True)\n",
    "product_counts = product_counts.reset_index()\n",
    "product_counts.rename(columns={'product_category_name_english':'product'},inplace=True)\n",
    "Products.rename(columns={0:'product_name'},inplace=True)\n",
    "Products = Products.set_index('product_name').join(product_counts.reset_index()[['total_orders','product']].set_index('product')).reset_index()"
   ]
  },
  {
   "cell_type": "code",
   "execution_count": 7,
   "metadata": {},
   "outputs": [],
   "source": [
    "# Total Product Revenues\n",
    "\n",
    "# ------------------------------------------------------------------------\n",
    "\n",
    "# 1) group items based on product category and sum the price of each item.\n",
    "#    Then save this into a new dataframe.\n",
    "product_revenue = pd.DataFrame(items.groupby(by='product_category_name_english')['price'].sum())\n",
    "product_revenue.rename(columns={'product_id':'product_count'},inplace=True)\n",
    "product_revenue = product_revenue.reset_index()\n",
    "# 2) Join dataframe into products and clean variable name\n",
    "Products = Products.set_index('product_name').join(product_revenue[['product_category_name_english','price']].set_index('product_category_name_english')).reset_index()\n",
    "Products.rename(columns={'price':'total_revenue'},inplace=True)"
   ]
  },
  {
   "cell_type": "code",
   "execution_count": 8,
   "metadata": {},
   "outputs": [],
   "source": [
    "# Average Price per Order ratio\n",
    "\n",
    "# Get the average price of the order than the product falls in\n",
    "# ------------------------------------------------------------------------\n",
    "price_per_order = Products.total_revenue / Products.total_orders\n",
    "Products['price_per_order'] = price_per_order"
   ]
  },
  {
   "cell_type": "code",
   "execution_count": 9,
   "metadata": {},
   "outputs": [],
   "source": [
    "# Product Frequency\n",
    "\n",
    "# Get the average frequency (days) in which that product is purchased to \n",
    "# determine its popularity.\n",
    "# ------------------------------------------------------------------------\n",
    "# 1) move time of purchase from orders DS to items DS\n",
    "orders['order_purchase_timestamp'] = pd.to_datetime(orders['order_purchase_timestamp'])\n",
    "order_date = orders[['order_id','order_purchase_timestamp']]\n",
    "items = items.set_index('order_id').join(order_date.set_index('order_id')).reset_index()\n",
    "items.drop_duplicates(inplace=True)\n",
    "items.rename(columns={'order_purchase_timestamp':'product_purchase_timestamp'},inplace=True)\n",
    "# 2) since all products have multiple sales, we can move ahead and calculate average frequency\n",
    "items.rename(columns={'product_category_name_english':'product_name'},inplace=True)\n",
    "items2 = items.sort_values(by=['product_name','product_purchase_timestamp'])\n",
    "time_dis = pd.DataFrame(items2.groupby(by=['product_name'])['product_purchase_timestamp'].diff())\n",
    "time_dis = time_dis.abs()\n",
    "time_dis.product_purchase_timestamp = time_dis.product_purchase_timestamp.dt.days\n",
    "items2['time_since_last'] = time_dis\n",
    "average_frequency = pd.DataFrame(items2.groupby(by=['product_name'])['time_since_last'].mean())\n",
    "average_frequency.rename(columns={'time_since_last':'average_frequency'},inplace=True)\n",
    "average_frequency.reset_index()\n",
    "# 3) Move average frequency into Products DS\n",
    "Products = Products.set_index('product_name').join(average_frequency.reset_index()[['product_name','average_frequency']].set_index('product_name')).reset_index()"
   ]
  },
  {
   "cell_type": "code",
   "execution_count": 10,
   "metadata": {},
   "outputs": [],
   "source": [
    "# Average Product Score\n",
    "\n",
    "# Describes overall sentiment towards that product\n",
    "# ------------------------------------------------------------------------\n",
    "\n",
    "# 1) Move review scores in to orders, and then from orders to items.\n",
    "orders = orders.set_index('order_id').join(reviews[['order_id','review_score']].set_index('order_id')).reset_index()\n",
    "orders.drop_duplicates(inplace=True)\n",
    "items = items.set_index('order_id').join(orders[['order_id','review_score']].set_index('order_id')).reset_index()\n",
    "items.drop_duplicates(inplace=True)\n",
    "\n",
    "# 2) calculate average product score by getting mean review_score based on\n",
    "#    product category and save to Products\n",
    "average_review_score = pd.DataFrame(items.groupby(by='product_name')['review_score'].agg('mean')).reset_index()\n",
    "average_review_score.rename(columns={'review_score':'average_review_score'})\n",
    "Products = Products.set_index('product_name').join(average_review_score[['product_name','review_score']].set_index('product_name')).reset_index()"
   ]
  },
  {
   "cell_type": "code",
   "execution_count": 11,
   "metadata": {},
   "outputs": [],
   "source": [
    "# Save the full Sellers dataset to a clean csv file\n",
    "Products.to_csv('CleanedDatasets/products_c.csv')"
   ]
  }
 ],
 "metadata": {
  "kernelspec": {
   "display_name": "Python 3",
   "language": "python",
   "name": "python3"
  },
  "language_info": {
   "codemirror_mode": {
    "name": "ipython",
    "version": 3
   },
   "file_extension": ".py",
   "mimetype": "text/x-python",
   "name": "python",
   "nbconvert_exporter": "python",
   "pygments_lexer": "ipython3",
   "version": "3.7.6"
  }
 },
 "nbformat": 4,
 "nbformat_minor": 4
}
